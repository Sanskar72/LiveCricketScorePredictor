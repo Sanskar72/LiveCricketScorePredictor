{
  "nbformat": 4,
  "nbformat_minor": 0,
  "metadata": {
    "colab": {
      "name": "RunsCalc.ipynb",
      "provenance": [],
      "collapsed_sections": []
    },
    "kernelspec": {
      "name": "python3",
      "display_name": "Python 3"
    }
  },
  "cells": [
    {
      "cell_type": "code",
      "metadata": {
        "id": "E1hyKWmVq7GA"
      },
      "source": [
        "import numpy as np\n",
        "import matplotlib.pyplot as plt\n",
        "import pandas as pd\n",
        "%matplotlib inline"
      ],
      "execution_count": null,
      "outputs": []
    },
    {
      "cell_type": "code",
      "metadata": {
        "colab": {
          "base_uri": "https://localhost:8080/",
          "height": 402
        },
        "id": "btDaNIhqrLAH",
        "outputId": "ba1a0e6f-180d-4de2-aafa-889387050d83"
      },
      "source": [
        "df = pd.read_csv(\"data_runs.csv\")\n",
        "df"
      ],
      "execution_count": null,
      "outputs": [
        {
          "output_type": "execute_result",
          "data": {
            "text/html": [
              "<div>\n",
              "<style scoped>\n",
              "    .dataframe tbody tr th:only-of-type {\n",
              "        vertical-align: middle;\n",
              "    }\n",
              "\n",
              "    .dataframe tbody tr th {\n",
              "        vertical-align: top;\n",
              "    }\n",
              "\n",
              "    .dataframe thead th {\n",
              "        text-align: right;\n",
              "    }\n",
              "</style>\n",
              "<table border=\"1\" class=\"dataframe\">\n",
              "  <thead>\n",
              "    <tr style=\"text-align: right;\">\n",
              "      <th></th>\n",
              "      <th>Unnamed: 0</th>\n",
              "      <th>Team</th>\n",
              "      <th>Time</th>\n",
              "      <th>Toss</th>\n",
              "      <th>Pitch</th>\n",
              "      <th>Total_Runs</th>\n",
              "      <th>Wickets</th>\n",
              "      <th>Avg_RR</th>\n",
              "      <th>PP_Runs</th>\n",
              "      <th>PP_RR</th>\n",
              "    </tr>\n",
              "  </thead>\n",
              "  <tbody>\n",
              "    <tr>\n",
              "      <th>0</th>\n",
              "      <td>0</td>\n",
              "      <td>6.0</td>\n",
              "      <td>4.0</td>\n",
              "      <td>2.0</td>\n",
              "      <td>2.0</td>\n",
              "      <td>210.0</td>\n",
              "      <td>7.0</td>\n",
              "      <td>9.706313</td>\n",
              "      <td>58.0</td>\n",
              "      <td>9.666667</td>\n",
              "    </tr>\n",
              "    <tr>\n",
              "      <th>1</th>\n",
              "      <td>1</td>\n",
              "      <td>3.0</td>\n",
              "      <td>5.0</td>\n",
              "      <td>2.0</td>\n",
              "      <td>1.0</td>\n",
              "      <td>121.0</td>\n",
              "      <td>5.0</td>\n",
              "      <td>6.319023</td>\n",
              "      <td>48.0</td>\n",
              "      <td>8.000000</td>\n",
              "    </tr>\n",
              "    <tr>\n",
              "      <th>2</th>\n",
              "      <td>2</td>\n",
              "      <td>9.0</td>\n",
              "      <td>1.0</td>\n",
              "      <td>1.0</td>\n",
              "      <td>1.0</td>\n",
              "      <td>123.0</td>\n",
              "      <td>3.0</td>\n",
              "      <td>7.197588</td>\n",
              "      <td>47.0</td>\n",
              "      <td>7.833333</td>\n",
              "    </tr>\n",
              "    <tr>\n",
              "      <th>3</th>\n",
              "      <td>3</td>\n",
              "      <td>4.0</td>\n",
              "      <td>2.0</td>\n",
              "      <td>1.0</td>\n",
              "      <td>2.0</td>\n",
              "      <td>120.0</td>\n",
              "      <td>4.0</td>\n",
              "      <td>5.751232</td>\n",
              "      <td>35.0</td>\n",
              "      <td>5.833333</td>\n",
              "    </tr>\n",
              "    <tr>\n",
              "      <th>4</th>\n",
              "      <td>4</td>\n",
              "      <td>5.0</td>\n",
              "      <td>4.0</td>\n",
              "      <td>2.0</td>\n",
              "      <td>2.0</td>\n",
              "      <td>176.0</td>\n",
              "      <td>7.0</td>\n",
              "      <td>8.248727</td>\n",
              "      <td>55.0</td>\n",
              "      <td>9.166667</td>\n",
              "    </tr>\n",
              "    <tr>\n",
              "      <th>...</th>\n",
              "      <td>...</td>\n",
              "      <td>...</td>\n",
              "      <td>...</td>\n",
              "      <td>...</td>\n",
              "      <td>...</td>\n",
              "      <td>...</td>\n",
              "      <td>...</td>\n",
              "      <td>...</td>\n",
              "      <td>...</td>\n",
              "      <td>...</td>\n",
              "    </tr>\n",
              "    <tr>\n",
              "      <th>9995</th>\n",
              "      <td>9995</td>\n",
              "      <td>2.0</td>\n",
              "      <td>1.0</td>\n",
              "      <td>1.0</td>\n",
              "      <td>1.0</td>\n",
              "      <td>152.0</td>\n",
              "      <td>0.0</td>\n",
              "      <td>7.799016</td>\n",
              "      <td>46.0</td>\n",
              "      <td>7.666667</td>\n",
              "    </tr>\n",
              "    <tr>\n",
              "      <th>9996</th>\n",
              "      <td>9996</td>\n",
              "      <td>6.0</td>\n",
              "      <td>2.0</td>\n",
              "      <td>2.0</td>\n",
              "      <td>1.0</td>\n",
              "      <td>158.0</td>\n",
              "      <td>1.0</td>\n",
              "      <td>7.662622</td>\n",
              "      <td>49.0</td>\n",
              "      <td>8.166667</td>\n",
              "    </tr>\n",
              "    <tr>\n",
              "      <th>9997</th>\n",
              "      <td>9997</td>\n",
              "      <td>1.0</td>\n",
              "      <td>1.0</td>\n",
              "      <td>2.0</td>\n",
              "      <td>2.0</td>\n",
              "      <td>108.0</td>\n",
              "      <td>4.0</td>\n",
              "      <td>6.602061</td>\n",
              "      <td>41.0</td>\n",
              "      <td>6.833333</td>\n",
              "    </tr>\n",
              "    <tr>\n",
              "      <th>9998</th>\n",
              "      <td>9998</td>\n",
              "      <td>4.0</td>\n",
              "      <td>3.0</td>\n",
              "      <td>1.0</td>\n",
              "      <td>1.0</td>\n",
              "      <td>147.0</td>\n",
              "      <td>3.0</td>\n",
              "      <td>6.465573</td>\n",
              "      <td>52.0</td>\n",
              "      <td>8.666667</td>\n",
              "    </tr>\n",
              "    <tr>\n",
              "      <th>9999</th>\n",
              "      <td>9999</td>\n",
              "      <td>5.0</td>\n",
              "      <td>5.0</td>\n",
              "      <td>2.0</td>\n",
              "      <td>3.0</td>\n",
              "      <td>94.0</td>\n",
              "      <td>4.0</td>\n",
              "      <td>4.953416</td>\n",
              "      <td>41.0</td>\n",
              "      <td>6.833333</td>\n",
              "    </tr>\n",
              "  </tbody>\n",
              "</table>\n",
              "<p>10000 rows × 10 columns</p>\n",
              "</div>"
            ],
            "text/plain": [
              "      Unnamed: 0  Team  Time  Toss  ...  Wickets    Avg_RR  PP_Runs     PP_RR\n",
              "0              0   6.0   4.0   2.0  ...      7.0  9.706313     58.0  9.666667\n",
              "1              1   3.0   5.0   2.0  ...      5.0  6.319023     48.0  8.000000\n",
              "2              2   9.0   1.0   1.0  ...      3.0  7.197588     47.0  7.833333\n",
              "3              3   4.0   2.0   1.0  ...      4.0  5.751232     35.0  5.833333\n",
              "4              4   5.0   4.0   2.0  ...      7.0  8.248727     55.0  9.166667\n",
              "...          ...   ...   ...   ...  ...      ...       ...      ...       ...\n",
              "9995        9995   2.0   1.0   1.0  ...      0.0  7.799016     46.0  7.666667\n",
              "9996        9996   6.0   2.0   2.0  ...      1.0  7.662622     49.0  8.166667\n",
              "9997        9997   1.0   1.0   2.0  ...      4.0  6.602061     41.0  6.833333\n",
              "9998        9998   4.0   3.0   1.0  ...      3.0  6.465573     52.0  8.666667\n",
              "9999        9999   5.0   5.0   2.0  ...      4.0  4.953416     41.0  6.833333\n",
              "\n",
              "[10000 rows x 10 columns]"
            ]
          },
          "metadata": {
            "tags": []
          },
          "execution_count": 2
        }
      ]
    },
    {
      "cell_type": "code",
      "metadata": {
        "id": "YB4HKRLn7bMa",
        "colab": {
          "base_uri": "https://localhost:8080/"
        },
        "outputId": "683e3b11-af8a-4191-bf6d-3b27d4c9dc72"
      },
      "source": [
        "df['Avg_RR'].min()"
      ],
      "execution_count": null,
      "outputs": [
        {
          "output_type": "execute_result",
          "data": {
            "text/plain": [
              "1.0749819406138648"
            ]
          },
          "metadata": {
            "tags": []
          },
          "execution_count": 3
        }
      ]
    },
    {
      "cell_type": "code",
      "metadata": {
        "colab": {
          "base_uri": "https://localhost:8080/",
          "height": 320
        },
        "id": "uWEHfyxurw7T",
        "outputId": "4f5fe0f2-9e0d-4a7d-9724-821d1836a686"
      },
      "source": [
        "plt.figure(figsize=(8,5))\n",
        "x_data, y_data = (df[\"Total_Runs\"].values, df[\"PP_RR\"].values)\n",
        "plt.plot(x_data, y_data, 'ro')\n",
        "plt.ylabel('RR')\n",
        "plt.show()"
      ],
      "execution_count": null,
      "outputs": [
        {
          "output_type": "display_data",
          "data": {
            "image/png": "[encoded data removed]",
            "text/plain": [
              "<Figure size 576x360 with 1 Axes>"
            ]
          },
          "metadata": {
            "tags": [],
            "needs_background": "light"
          }
        }
      ]
    },
    {
      "cell_type": "code",
      "metadata": {
        "colab": {
          "base_uri": "https://localhost:8080/",
          "height": 402
        },
        "id": "pazn-I0AsyOJ",
        "outputId": "bd8ee9dd-6186-4e7e-dc73-9ad91a36be27"
      },
      "source": [
        "cdf = df[['Team','Time','Toss','Pitch','Wickets','Avg_RR','PP_Runs','PP_RR','Total_Runs']]\n",
        "cdf"
      ],
      "execution_count": null,
      "outputs": [
        {
          "output_type": "execute_result",
          "data": {
            "text/html": [
              "<div>\n",
              "<style scoped>\n",
              "    .dataframe tbody tr th:only-of-type {\n",
              "        vertical-align: middle;\n",
              "    }\n",
              "\n",
              "    .dataframe tbody tr th {\n",
              "        vertical-align: top;\n",
              "    }\n",
              "\n",
              "    .dataframe thead th {\n",
              "        text-align: right;\n",
              "    }\n",
              "</style>\n",
              "<table border=\"1\" class=\"dataframe\">\n",
              "  <thead>\n",
              "    <tr style=\"text-align: right;\">\n",
              "      <th></th>\n",
              "      <th>Team</th>\n",
              "      <th>Time</th>\n",
              "      <th>Toss</th>\n",
              "      <th>Pitch</th>\n",
              "      <th>Wickets</th>\n",
              "      <th>Avg_RR</th>\n",
              "      <th>PP_Runs</th>\n",
              "      <th>PP_RR</th>\n",
              "      <th>Total_Runs</th>\n",
              "    </tr>\n",
              "  </thead>\n",
              "  <tbody>\n",
              "    <tr>\n",
              "      <th>0</th>\n",
              "      <td>6.0</td>\n",
              "      <td>4.0</td>\n",
              "      <td>2.0</td>\n",
              "      <td>2.0</td>\n",
              "      <td>7.0</td>\n",
              "      <td>9.706313</td>\n",
              "      <td>58.0</td>\n",
              "      <td>9.666667</td>\n",
              "      <td>210.0</td>\n",
              "    </tr>\n",
              "    <tr>\n",
              "      <th>1</th>\n",
              "      <td>3.0</td>\n",
              "      <td>5.0</td>\n",
              "      <td>2.0</td>\n",
              "      <td>1.0</td>\n",
              "      <td>5.0</td>\n",
              "      <td>6.319023</td>\n",
              "      <td>48.0</td>\n",
              "      <td>8.000000</td>\n",
              "      <td>121.0</td>\n",
              "    </tr>\n",
              "    <tr>\n",
              "      <th>2</th>\n",
              "      <td>9.0</td>\n",
              "      <td>1.0</td>\n",
              "      <td>1.0</td>\n",
              "      <td>1.0</td>\n",
              "      <td>3.0</td>\n",
              "      <td>7.197588</td>\n",
              "      <td>47.0</td>\n",
              "      <td>7.833333</td>\n",
              "      <td>123.0</td>\n",
              "    </tr>\n",
              "    <tr>\n",
              "      <th>3</th>\n",
              "      <td>4.0</td>\n",
              "      <td>2.0</td>\n",
              "      <td>1.0</td>\n",
              "      <td>2.0</td>\n",
              "      <td>4.0</td>\n",
              "      <td>5.751232</td>\n",
              "      <td>35.0</td>\n",
              "      <td>5.833333</td>\n",
              "      <td>120.0</td>\n",
              "    </tr>\n",
              "    <tr>\n",
              "      <th>4</th>\n",
              "      <td>5.0</td>\n",
              "      <td>4.0</td>\n",
              "      <td>2.0</td>\n",
              "      <td>2.0</td>\n",
              "      <td>7.0</td>\n",
              "      <td>8.248727</td>\n",
              "      <td>55.0</td>\n",
              "      <td>9.166667</td>\n",
              "      <td>176.0</td>\n",
              "    </tr>\n",
              "    <tr>\n",
              "      <th>...</th>\n",
              "      <td>...</td>\n",
              "      <td>...</td>\n",
              "      <td>...</td>\n",
              "      <td>...</td>\n",
              "      <td>...</td>\n",
              "      <td>...</td>\n",
              "      <td>...</td>\n",
              "      <td>...</td>\n",
              "      <td>...</td>\n",
              "    </tr>\n",
              "    <tr>\n",
              "      <th>9995</th>\n",
              "      <td>2.0</td>\n",
              "      <td>1.0</td>\n",
              "      <td>1.0</td>\n",
              "      <td>1.0</td>\n",
              "      <td>0.0</td>\n",
              "      <td>7.799016</td>\n",
              "      <td>46.0</td>\n",
              "      <td>7.666667</td>\n",
              "      <td>152.0</td>\n",
              "    </tr>\n",
              "    <tr>\n",
              "      <th>9996</th>\n",
              "      <td>6.0</td>\n",
              "      <td>2.0</td>\n",
              "      <td>2.0</td>\n",
              "      <td>1.0</td>\n",
              "      <td>1.0</td>\n",
              "      <td>7.662622</td>\n",
              "      <td>49.0</td>\n",
              "      <td>8.166667</td>\n",
              "      <td>158.0</td>\n",
              "    </tr>\n",
              "    <tr>\n",
              "      <th>9997</th>\n",
              "      <td>1.0</td>\n",
              "      <td>1.0</td>\n",
              "      <td>2.0</td>\n",
              "      <td>2.0</td>\n",
              "      <td>4.0</td>\n",
              "      <td>6.602061</td>\n",
              "      <td>41.0</td>\n",
              "      <td>6.833333</td>\n",
              "      <td>108.0</td>\n",
              "    </tr>\n",
              "    <tr>\n",
              "      <th>9998</th>\n",
              "      <td>4.0</td>\n",
              "      <td>3.0</td>\n",
              "      <td>1.0</td>\n",
              "      <td>1.0</td>\n",
              "      <td>3.0</td>\n",
              "      <td>6.465573</td>\n",
              "      <td>52.0</td>\n",
              "      <td>8.666667</td>\n",
              "      <td>147.0</td>\n",
              "    </tr>\n",
              "    <tr>\n",
              "      <th>9999</th>\n",
              "      <td>5.0</td>\n",
              "      <td>5.0</td>\n",
              "      <td>2.0</td>\n",
              "      <td>3.0</td>\n",
              "      <td>4.0</td>\n",
              "      <td>4.953416</td>\n",
              "      <td>41.0</td>\n",
              "      <td>6.833333</td>\n",
              "      <td>94.0</td>\n",
              "    </tr>\n",
              "  </tbody>\n",
              "</table>\n",
              "<p>10000 rows × 9 columns</p>\n",
              "</div>"
            ],
            "text/plain": [
              "      Team  Time  Toss  Pitch  Wickets    Avg_RR  PP_Runs     PP_RR  Total_Runs\n",
              "0      6.0   4.0   2.0    2.0      7.0  9.706313     58.0  9.666667       210.0\n",
              "1      3.0   5.0   2.0    1.0      5.0  6.319023     48.0  8.000000       121.0\n",
              "2      9.0   1.0   1.0    1.0      3.0  7.197588     47.0  7.833333       123.0\n",
              "3      4.0   2.0   1.0    2.0      4.0  5.751232     35.0  5.833333       120.0\n",
              "4      5.0   4.0   2.0    2.0      7.0  8.248727     55.0  9.166667       176.0\n",
              "...    ...   ...   ...    ...      ...       ...      ...       ...         ...\n",
              "9995   2.0   1.0   1.0    1.0      0.0  7.799016     46.0  7.666667       152.0\n",
              "9996   6.0   2.0   2.0    1.0      1.0  7.662622     49.0  8.166667       158.0\n",
              "9997   1.0   1.0   2.0    2.0      4.0  6.602061     41.0  6.833333       108.0\n",
              "9998   4.0   3.0   1.0    1.0      3.0  6.465573     52.0  8.666667       147.0\n",
              "9999   5.0   5.0   2.0    3.0      4.0  4.953416     41.0  6.833333        94.0\n",
              "\n",
              "[10000 rows x 9 columns]"
            ]
          },
          "metadata": {
            "tags": []
          },
          "execution_count": 5
        }
      ]
    },
    {
      "cell_type": "code",
      "metadata": {
        "id": "PpSdaXuotcwB"
      },
      "source": [
        "msk = np.random.rand(len(df)) < 0.8\n",
        "train = cdf[msk]\n",
        "test = cdf[~msk]"
      ],
      "execution_count": null,
      "outputs": []
    },
    {
      "cell_type": "code",
      "metadata": {
        "id": "7WRZWEIt3hC-"
      },
      "source": [
        "from sklearn.preprocessing import StandardScaler\n",
        "sc = StandardScaler()"
      ],
      "execution_count": null,
      "outputs": []
    },
    {
      "cell_type": "code",
      "metadata": {
        "id": "EVdUMC7dtgoT"
      },
      "source": [
        "from sklearn.preprocessing import PolynomialFeatures\n",
        "from sklearn import linear_model\n",
        "train_x = np.asanyarray(train[['Team','Time','Toss','Pitch','Wickets','Avg_RR','PP_Runs','PP_RR']])\n",
        "train_y = np.asanyarray(train[['Total_Runs']])\n",
        "\n",
        "\n",
        "test_x = np.asanyarray(test[['Team','Time','Toss','Pitch','Wickets','Avg_RR','PP_Runs','PP_RR']])\n",
        "test_y = np.asanyarray(test[['Total_Runs']])\n",
        "\n",
        "\n",
        "train_x = sc.fit_transform(train_x)\n",
        "test_x = sc.transform(test_x)\n",
        "                      \n",
        "poly = PolynomialFeatures(degree=2)\n",
        "train_x_poly = poly.fit_transform(train_x)"
      ],
      "execution_count": null,
      "outputs": []
    },
    {
      "cell_type": "code",
      "metadata": {
        "id": "whcAh5N3u0yh"
      },
      "source": [
        ""
      ],
      "execution_count": null,
      "outputs": []
    },
    {
      "cell_type": "code",
      "metadata": {
        "colab": {
          "base_uri": "https://localhost:8080/"
        },
        "id": "4PB0pN9buguX",
        "outputId": "ca48ab89-4a59-4871-fba6-37bdbb50c625"
      },
      "source": [
        "clf = linear_model.LinearRegression()\n",
        "train_y_ = clf.fit(train_x_poly, train_y)\n",
        "# The coefficients\n",
        "print ('Coefficients: ', clf.coef_)\n",
        "print ('Intercept: ',clf.intercept_)"
      ],
      "execution_count": null,
      "outputs": [
        {
          "output_type": "stream",
          "text": [
            "Coefficients:  [[-2.98557837e+08 -3.13805981e-01  1.16494641e-01  2.22636124e+09\n",
            "   9.33430973e-02 -1.89937149e-02  3.01505626e+01  1.01951576e+14\n",
            "  -1.01951576e+14  2.52254353e-01 -9.44110007e-02  3.71705402e-02\n",
            "   1.99161856e-01 -1.36156272e-01  1.25310081e-01  3.94164918e+13\n",
            "  -3.94164918e+13 -1.67284335e-01  2.71700373e-01 -4.22966112e-02\n",
            "   3.19420299e-01 -2.52602110e-01  1.27037188e+14 -1.27037188e+14\n",
            "  -1.38760457e+11  1.22957392e-01 -1.30204548e-01  8.80801750e-02\n",
            "   3.19912216e+13 -3.19912216e+13  1.67470253e-03  6.49700267e-02\n",
            "  -2.66329866e-01  9.78541591e+12 -9.78541591e+12 -3.44096574e-01\n",
            "   3.63748180e-01  8.30278224e+13 -8.30278224e+13  4.01211088e-01\n",
            "  -3.02431185e+13  3.02431185e+13 -6.70880251e+13  9.40950606e+11\n",
            "   6.61470745e+13]]\n",
            "Intercept:  [1.39059015e+11]\n"
          ],
          "name": "stdout"
        }
      ]
    },
    {
      "cell_type": "code",
      "metadata": {
        "colab": {
          "base_uri": "https://localhost:8080/"
        },
        "id": "VS1FzW6Zunfu",
        "outputId": "3f00421d-caaf-4824-da2d-d6a8cc9ef8d6"
      },
      "source": [
        "from sklearn.metrics import r2_score\n",
        "\n",
        "test_x_poly = poly.fit_transform(test_x)\n",
        "test_y_ = clf.predict(test_x_poly)\n",
        "\n",
        "print(\"Mean absolute error: %.2f\" % np.mean(np.absolute(test_y_ - test_y)))\n",
        "print(\"Residual sum of squares (MSE): %.2f\" % np.mean((test_y_ - test_y) ** 2))\n",
        "print(\"R2-score: %.2f\" % r2_score(test_y_ , test_y))"
      ],
      "execution_count": null,
      "outputs": [
        {
          "output_type": "stream",
          "text": [
            "Mean absolute error: 9.89\n",
            "Residual sum of squares (MSE): 154.81\n",
            "R2-score: 0.86\n"
          ],
          "name": "stdout"
        }
      ]
    },
    {
      "cell_type": "code",
      "metadata": {
        "colab": {
          "base_uri": "https://localhost:8080/"
        },
        "id": "n3hSp_y1vfEn",
        "outputId": "8f4b688a-a841-4bfc-b034-d8b2e3bfcad9"
      },
      "source": [
        "from sklearn import linear_model\n",
        "regr = linear_model.LinearRegression()\n",
        "train_x = np.asanyarray(train[['Team','Time','Toss','Pitch','Wickets','Avg_RR','PP_Runs','PP_RR']])\n",
        "train_x = sc.fit_transform(train_x)\n",
        "train_y = np.asanyarray(train[['Total_Runs']])\n",
        "regr.fit (train_x, train_y)\n",
        "# The coefficients\n",
        "print ('Coefficients: ', regr.coef_)\n",
        "print ('Intercept: ',regr.intercept_)"
      ],
      "execution_count": null,
      "outputs": [
        {
          "output_type": "stream",
          "text": [
            "Coefficients:  [[-3.15012556e-01  1.03828745e-01 -1.70993265e-01  1.52635679e-01\n",
            "  -9.35512099e-02  3.01255014e+01  2.41571316e+14 -2.41571316e+14]]\n",
            "Intercept:  [149.44171159]\n"
          ],
          "name": "stdout"
        }
      ]
    },
    {
      "cell_type": "code",
      "metadata": {
        "colab": {
          "base_uri": "https://localhost:8080/",
          "height": 399
        },
        "id": "-COqCejPvsQt",
        "outputId": "ebaacde4-9084-4ee5-c9f8-0daf163601ec"
      },
      "source": [
        "plt.scatter(train.Team, train.Total_Runs,  color='blue')\n",
        "plt.plot(train_x, regr.coef_[0][0]*train_x + regr.intercept_[0], '-r')"
      ],
      "execution_count": null,
      "outputs": [
        {
          "output_type": "execute_result",
          "data": {
            "text/plain": [
              "[<matplotlib.lines.Line2D at 0x7fa29c9a3b70>,\n",
              " <matplotlib.lines.Line2D at 0x7fa2983220b8>,\n",
              " <matplotlib.lines.Line2D at 0x7fa298322208>,\n",
              " <matplotlib.lines.Line2D at 0x7fa298322358>,\n",
              " <matplotlib.lines.Line2D at 0x7fa2983224a8>,\n",
              " <matplotlib.lines.Line2D at 0x7fa2983225f8>,\n",
              " <matplotlib.lines.Line2D at 0x7fa298322748>,\n",
              " <matplotlib.lines.Line2D at 0x7fa298322898>]"
            ]
          },
          "metadata": {
            "tags": []
          },
          "execution_count": 12
        },
        {
          "output_type": "display_data",
          "data": {
            "image/png": "[encoded data removed]",
            "text/plain": [
              "<Figure size 432x288 with 1 Axes>"
            ]
          },
          "metadata": {
            "tags": [],
            "needs_background": "light"
          }
        }
      ]
    },
    {
      "cell_type": "code",
      "metadata": {
        "colab": {
          "base_uri": "https://localhost:8080/"
        },
        "id": "7fdxLHhIv-4q",
        "outputId": "6bafa3bd-5a5c-4b72-d74f-14f8616868ff"
      },
      "source": [
        "from sklearn.metrics import r2_score\n",
        "\n",
        "test_x = np.asanyarray(test[['Team','Time','Toss','Pitch','Wickets','Avg_RR','PP_Runs','PP_RR']])\n",
        "test_x = sc.transform(test_x)\n",
        "test_y = np.asanyarray(test[['Total_Runs']])\n",
        "test_y_hat = regr.predict(test_x)\n",
        "\n",
        "print(\"Mean absolute error: %.2f\" % np.mean(np.absolute(test_y_hat - test_y)))\n",
        "print(\"Residual sum of squares (MSE): %.2f\" % np.mean((test_y_hat - test_y) ** 2))\n",
        "print(\"R2-score: %.2f\" % r2_score(test_y_hat , test_y) )"
      ],
      "execution_count": null,
      "outputs": [
        {
          "output_type": "stream",
          "text": [
            "Mean absolute error: 9.90\n",
            "Residual sum of squares (MSE): 155.11\n",
            "R2-score: 0.86\n"
          ],
          "name": "stdout"
        }
      ]
    },
    {
      "cell_type": "code",
      "metadata": {
        "colab": {
          "base_uri": "https://localhost:8080/"
        },
        "id": "jvZwymB26xKz",
        "outputId": "5d5af600-47fc-47d4-c9d1-d67da881e24d"
      },
      "source": [
        "from sklearn.ensemble import RandomForestRegressor\n",
        "reg = RandomForestRegressor(n_estimators=100,max_features=None)\n",
        "train_x = np.asanyarray(train[['Team','Time','Toss','Pitch','Wickets','Avg_RR','PP_Runs','PP_RR']])\n",
        "train_x = sc.fit_transform(train_x)\n",
        "train_y = np.asanyarray(train[['Total_Runs']])\n",
        "reg.fit(train_x,train_y)\n",
        "# The coefficients\n",
        "print ('Coefficients: ', regr.coef_)\n",
        "print ('Intercept: ',regr.intercept_)"
      ],
      "execution_count": null,
      "outputs": [
        {
          "output_type": "stream",
          "text": [
            "/usr/local/lib/python3.6/dist-packages/ipykernel_launcher.py:6: DataConversionWarning: A column-vector y was passed when a 1d array was expected. Please change the shape of y to (n_samples,), for example using ravel().\n",
            "  \n"
          ],
          "name": "stderr"
        },
        {
          "output_type": "stream",
          "text": [
            "Coefficients:  [[-3.15012556e-01  1.03828745e-01 -1.70993265e-01  1.52635679e-01\n",
            "  -9.35512099e-02  3.01255014e+01  2.41571316e+14 -2.41571316e+14]]\n",
            "Intercept:  [149.44171159]\n"
          ],
          "name": "stdout"
        }
      ]
    },
    {
      "cell_type": "code",
      "metadata": {
        "colab": {
          "base_uri": "https://localhost:8080/"
        },
        "id": "6R7bX40U7Qa9",
        "outputId": "aabe5634-8097-4ec8-ec36-157e8f84a503"
      },
      "source": [
        "from sklearn.metrics import r2_score\n",
        "\n",
        "test_x = np.asanyarray(test[['Team','Time','Toss','Pitch','Wickets','Avg_RR','PP_Runs','PP_RR']])\n",
        "test_x = sc.transform(test_x)\n",
        "test_y = np.asanyarray(test[['Total_Runs']])\n",
        "test_y_hat = reg.predict(test_x)\n",
        "\n",
        "print(\"Mean absolute error: %.2f\" % np.mean(np.absolute(test_y_hat - test_y)))\n",
        "print(\"Residual sum of squares (MSE): %.2f\" % np.mean((test_y_hat - test_y) ** 2))\n",
        "print(\"R2-score: %.2f\" % r2_score(test_y_hat , test_y) )"
      ],
      "execution_count": null,
      "outputs": [
        {
          "output_type": "stream",
          "text": [
            "Mean absolute error: 39.13\n",
            "Residual sum of squares (MSE): 2400.44\n",
            "R2-score: 0.85\n"
          ],
          "name": "stdout"
        }
      ]
    }
  ]
}