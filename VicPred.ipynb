{
  "nbformat": 4,
  "nbformat_minor": 0,
  "metadata": {
    "colab": {
      "name": "VicPred.ipynb",
      "provenance": []
    },
    "kernelspec": {
      "name": "python3",
      "display_name": "Python 3"
    },
    "language_info": {
      "name": "python"
    }
  },
  "cells": [
    {
      "cell_type": "code",
      "metadata": {
        "id": "nLSYD2LSXdpy"
      },
      "source": [
        "import pandas as pd\n",
        "import pickle\n",
        "import numpy as np\n",
        "from sklearn.model_selection import train_test_split\n",
        "from sklearn.preprocessing import StandardScaler\n",
        "from sklearn.preprocessing import LabelEncoder\n",
        "from sklearn.linear_model import LogisticRegression\n",
        "from sklearn import svm\n",
        "from sklearn.ensemble import RandomForestClassifier\n",
        "from sklearn.metrics import r2_score\n",
        "df = pd.read_csv('matches.csv')"
      ],
      "execution_count": 1,
      "outputs": []
    },
    {
      "cell_type": "code",
      "metadata": {
        "id": "9ZwBjCi5YlvA"
      },
      "source": [
        "#ONLY TAKING THE TEAMS THAT ARE REGULAR\n",
        "consistent_teams = ['Kolkata Knight Riders', 'Chennai Super Kings', 'Rajasthan Royals',\n",
        "                    'Mumbai Indians', 'Kings XI Punjab', 'Royal Challengers Bangalore',\n",
        "                    'Delhi Daredevils', 'Sunrisers Hyderabad']\n",
        "df = df[(df['team1'].isin(consistent_teams)) & (df['team2'].isin(consistent_teams))]"
      ],
      "execution_count": 2,
      "outputs": []
    },
    {
      "cell_type": "code",
      "metadata": {
        "id": "aVgTpNXsbSyI"
      },
      "source": [
        "#FILLING NULL VALUES\n",
        "conditions = [df[\"venue\"] == \"Rajiv Gandhi International Stadium, Uppal\",df[\"venue\"] == \"Maharashtra Cricket Association Stadium\",\n",
        "              df[\"venue\"] == \"Saurashtra Cricket Association Stadium\", df[\"venue\"] == \"Holkar Cricket Stadium\",\n",
        "              df[\"venue\"] == \"M Chinnaswamy Stadium\",df[\"venue\"] == \"Wankhede Stadium\",\n",
        "              df[\"venue\"] == \"Eden Gardens\",df[\"venue\"] == \"Feroz Shah Kotla\",\n",
        "              df[\"venue\"] == \"Punjab Cricket Association IS Bindra Stadium, Mohali\",df[\"venue\"] == \"Green Park\",\n",
        "              df[\"venue\"] == \"Punjab Cricket Association Stadium, Mohali\",df[\"venue\"] == \"Dr DY Patil Sports Academy\",\n",
        "              df[\"venue\"] == \"Sawai Mansingh Stadium\", df[\"venue\"] == \"MA Chidambaram Stadium, Chepauk\", \n",
        "              df[\"venue\"] == \"Newlands\", df[\"venue\"] == \"St George's Park\" , \n",
        "              df[\"venue\"] == \"Kingsmead\", df[\"venue\"] == \"SuperSport Park\",\n",
        "              df[\"venue\"] == \"Buffalo Park\", df[\"venue\"] == \"New Wanderers Stadium\",\n",
        "              df[\"venue\"] == \"De Beers Diamond Oval\", df[\"venue\"] == \"OUTsurance Oval\", \n",
        "              df[\"venue\"] == \"Brabourne Stadium\",df[\"venue\"] == \"Sardar Patel Stadium\", \n",
        "              df[\"venue\"] == \"Barabati Stadium\", df[\"venue\"] == \"Vidarbha Cricket Association Stadium, Jamtha\",\n",
        "              df[\"venue\"] == \"Himachal Pradesh Cricket Association Stadium\",df[\"venue\"] == \"Nehru Stadium\",\n",
        "              df[\"venue\"] == \"Dr. Y.S. Rajasekhara Reddy ACA-VDCA Cricket Stadium\",df[\"venue\"] == \"Subrata Roy Sahara Stadium\",\n",
        "              df[\"venue\"] == \"Shaheed Veer Narayan Singh International Stadium\",df[\"venue\"] == \"JSCA International Stadium Complex\",\n",
        "              df[\"venue\"] == \"Sheikh Zayed Stadium\",df[\"venue\"] == \"Sharjah Cricket Stadium\",\n",
        "              df[\"venue\"] == \"Dubai International Cricket Stadium\",df[\"venue\"] == \"M. A. Chidambaram Stadium\",\n",
        "              df[\"venue\"] == \"Feroz Shah Kotla Ground\",df[\"venue\"] == \"M. Chinnaswamy Stadium\",\n",
        "              df[\"venue\"] == \"Rajiv Gandhi Intl. Cricket Stadium\" ,df[\"venue\"] == \"IS Bindra Stadium\",df[\"venue\"] == \"ACA-VDCA Stadium\"]\n",
        "values = ['Hyderabad', 'Mumbai', 'Rajkot',\"Indore\",\"Bengaluru\",\"Mumbai\",\"Kolkata\",\"Delhi\",\"Mohali\",\"Kanpur\",\"Mohali\",\"Pune\",\"Jaipur\",\"Chennai\",\"Cape Town\",\"Port Elizabeth\",\"Durban\",\n",
        "          \"Centurion\",'Eastern Cape','Johannesburg','Northern Cape','Bloemfontein','Mumbai','Ahmedabad','Cuttack','Jamtha','Dharamshala','Chennai','Visakhapatnam','Pune','Raipur','Ranchi',\n",
        "          'Abu Dhabi','Sharjah','Dubai','Chennai','Delhi','Bengaluru','Hyderabad','Mohali','Visakhapatnam']\n",
        "df['city'] = np.where(df['city'].isnull(),\n",
        "                              np.select(conditions, values),\n",
        "                              df['city'])\n",
        "\n",
        "#Removing records having null values in \"winner\" column\n",
        "df=df[df[\"winner\"].notna()]"
      ],
      "execution_count": 3,
      "outputs": []
    },
    {
      "cell_type": "code",
      "metadata": {
        "id": "HOKBdqaCY2go"
      },
      "source": [
        "#REMOVING USELESS COLS\n",
        "columns_to_remove = ['id', 'date', 'result', 'dl_applied', 'win_by_runs', 'win_by_wickets', 'player_of_match', 'umpire1', 'umpire2', 'umpire3']\n",
        "df.drop(labels=columns_to_remove, axis=1, inplace=True)"
      ],
      "execution_count": 4,
      "outputs": []
    },
    {
      "cell_type": "code",
      "metadata": {
        "id": "DCLWFqH_aMKD"
      },
      "source": [
        "#NUMERICALLY CATEGORIZING THE FEATURES\n",
        "encoder= LabelEncoder()\n",
        "df[\"team1\"]=encoder.fit_transform(df[\"team1\"])\n",
        "df[\"team2\"]=encoder.fit_transform(df[\"team2\"])\n",
        "df[\"winner\"]=encoder.fit_transform(df[\"winner\"].astype(str))\n",
        "df[\"toss_winner\"]=encoder.fit_transform(df[\"toss_winner\"])\n",
        "df[\"venue\"]=encoder.fit_transform(df[\"venue\"])\n",
        "df[\"city\"]=encoder.fit_transform(df[\"city\"])\n",
        "df[\"toss_decision\"]=encoder.fit_transform(df[\"toss_decision\"])"
      ],
      "execution_count": 5,
      "outputs": []
    },
    {
      "cell_type": "code",
      "metadata": {
        "id": "1lQPvhwHact_"
      },
      "source": [
        "#outcome variable team1_win as a probability of team1 winning the match\n",
        "df.loc[df[\"winner\"]==df[\"team1\"],\"team1_win\"]=1\n",
        "df.loc[df[\"winner\"]!=df[\"team1\"],\"team1_win\"]=0\n",
        "\n",
        "#outcome variable team1_toss_win as a value of team1 winning the toss\n",
        "df.loc[df[\"toss_winner\"]==df[\"team1\"],\"team1_toss_win\"]=1\n",
        "df.loc[df[\"toss_winner\"]!=df[\"team1\"],\"team1_toss_win\"]=0\n"
      ],
      "execution_count": 6,
      "outputs": []
    },
    {
      "cell_type": "code",
      "metadata": {
        "id": "5_b1SIzVgzBP"
      },
      "source": [
        "#FEATURES AND LABEL DISTINCTION\n",
        "X = df.iloc[:,[2,3,4,5,7,9]].values\n",
        "y = df.iloc[:, 6].values"
      ],
      "execution_count": 17,
      "outputs": []
    },
    {
      "cell_type": "code",
      "metadata": {
        "id": "xoNbCot1gl5l"
      },
      "source": [
        "#TRAIN-TEST-SPLIT\n",
        "X_train, X_test, y_train, y_test = train_test_split(X, y, test_size=0.2, random_state=420)"
      ],
      "execution_count": 18,
      "outputs": []
    },
    {
      "cell_type": "code",
      "metadata": {
        "id": "dCgHDHxTgtEj"
      },
      "source": [
        "#SCALING THE INPUT \n",
        "sc = StandardScaler()\n",
        "X_train = sc.fit_transform(X_train)\n",
        "X_test = sc.transform(X_test)"
      ],
      "execution_count": 19,
      "outputs": []
    },
    {
      "cell_type": "code",
      "metadata": {
        "id": "zck-wzs8ftJJ"
      },
      "source": [
        "#FITTING THE MODEL\n",
        "reg = RandomForestClassifier(n_estimators=100)\n",
        "reg.fit(X_train, y_train)\n",
        "y_pred = reg.predict(X_test)\n",
        "#print('Accuracy of Classifier on test set: {:.4f}'.format(reg.score(X_test, y_test)))"
      ],
      "execution_count": 20,
      "outputs": []
    },
    {
      "cell_type": "code",
      "metadata": {
        "id": "cfryZGdsjh7K"
      },
      "source": [
        "#PICKLING THE MODEL\n",
        "filename = 'vp.pkl'\n",
        "pickle.dump(reg, open(filename, 'wb'))\n"
      ],
      "execution_count": 15,
      "outputs": []
    },
    {
      "cell_type": "code",
      "metadata": {
        "colab": {
          "base_uri": "https://localhost:8080/"
        },
        "id": "a4MugKCik9aG",
        "outputId": "cc12319c-e8cc-403d-cc71-17a49b51e878"
      },
      "source": [
        "\"\"\"\n",
        "#PREDICTION\n",
        "\n",
        "prediction=reg.predict([[0,7,0,1,10,1]])\n",
        "prediction\n",
        "\"\"\""
      ],
      "execution_count": 22,
      "outputs": [
        {
          "output_type": "execute_result",
          "data": {
            "text/plain": [
              "array([4])"
            ]
          },
          "metadata": {
            "tags": []
          },
          "execution_count": 22
        }
      ]
    },
    {
      "cell_type": "code",
      "metadata": {
        "id": "Mulgx-T_t3vj"
      },
      "source": [
        ""
      ],
      "execution_count": null,
      "outputs": []
    },
    {
      "cell_type": "code",
      "metadata": {
        "colab": {
          "base_uri": "https://localhost:8080/",
          "height": 402
        },
        "id": "ZavXEbyFu9Jw",
        "outputId": "d6eff1a4-303c-4f64-e9fb-1faf57428bc5"
      },
      "source": [
        ""
      ],
      "execution_count": 16,
      "outputs": [
        {
          "output_type": "execute_result",
          "data": {
            "text/html": [
              "<div>\n",
              "<style scoped>\n",
              "    .dataframe tbody tr th:only-of-type {\n",
              "        vertical-align: middle;\n",
              "    }\n",
              "\n",
              "    .dataframe tbody tr th {\n",
              "        vertical-align: top;\n",
              "    }\n",
              "\n",
              "    .dataframe thead th {\n",
              "        text-align: right;\n",
              "    }\n",
              "</style>\n",
              "<table border=\"1\" class=\"dataframe\">\n",
              "  <thead>\n",
              "    <tr style=\"text-align: right;\">\n",
              "      <th></th>\n",
              "      <th>season</th>\n",
              "      <th>city</th>\n",
              "      <th>team1</th>\n",
              "      <th>team2</th>\n",
              "      <th>toss_winner</th>\n",
              "      <th>toss_decision</th>\n",
              "      <th>winner</th>\n",
              "      <th>venue</th>\n",
              "      <th>team1_win</th>\n",
              "      <th>team1_toss_win</th>\n",
              "    </tr>\n",
              "  </thead>\n",
              "  <tbody>\n",
              "    <tr>\n",
              "      <th>0</th>\n",
              "      <td>2017</td>\n",
              "      <td>15</td>\n",
              "      <td>7</td>\n",
              "      <td>6</td>\n",
              "      <td>6</td>\n",
              "      <td>1</td>\n",
              "      <td>7</td>\n",
              "      <td>24</td>\n",
              "      <td>1.0</td>\n",
              "      <td>0.0</td>\n",
              "    </tr>\n",
              "    <tr>\n",
              "      <th>4</th>\n",
              "      <td>2017</td>\n",
              "      <td>2</td>\n",
              "      <td>6</td>\n",
              "      <td>1</td>\n",
              "      <td>6</td>\n",
              "      <td>0</td>\n",
              "      <td>6</td>\n",
              "      <td>14</td>\n",
              "      <td>1.0</td>\n",
              "      <td>1.0</td>\n",
              "    </tr>\n",
              "    <tr>\n",
              "      <th>6</th>\n",
              "      <td>2017</td>\n",
              "      <td>22</td>\n",
              "      <td>3</td>\n",
              "      <td>4</td>\n",
              "      <td>4</td>\n",
              "      <td>1</td>\n",
              "      <td>4</td>\n",
              "      <td>34</td>\n",
              "      <td>0.0</td>\n",
              "      <td>0.0</td>\n",
              "    </tr>\n",
              "    <tr>\n",
              "      <th>7</th>\n",
              "      <td>2017</td>\n",
              "      <td>16</td>\n",
              "      <td>6</td>\n",
              "      <td>2</td>\n",
              "      <td>6</td>\n",
              "      <td>0</td>\n",
              "      <td>2</td>\n",
              "      <td>10</td>\n",
              "      <td>0.0</td>\n",
              "      <td>1.0</td>\n",
              "    </tr>\n",
              "    <tr>\n",
              "      <th>9</th>\n",
              "      <td>2017</td>\n",
              "      <td>22</td>\n",
              "      <td>7</td>\n",
              "      <td>4</td>\n",
              "      <td>4</td>\n",
              "      <td>1</td>\n",
              "      <td>4</td>\n",
              "      <td>34</td>\n",
              "      <td>0.0</td>\n",
              "      <td>0.0</td>\n",
              "    </tr>\n",
              "    <tr>\n",
              "      <th>...</th>\n",
              "      <td>...</td>\n",
              "      <td>...</td>\n",
              "      <td>...</td>\n",
              "      <td>...</td>\n",
              "      <td>...</td>\n",
              "      <td>...</td>\n",
              "      <td>...</td>\n",
              "      <td>...</td>\n",
              "      <td>...</td>\n",
              "      <td>...</td>\n",
              "    </tr>\n",
              "    <tr>\n",
              "      <th>749</th>\n",
              "      <td>2019</td>\n",
              "      <td>3</td>\n",
              "      <td>7</td>\n",
              "      <td>6</td>\n",
              "      <td>6</td>\n",
              "      <td>1</td>\n",
              "      <td>6</td>\n",
              "      <td>16</td>\n",
              "      <td>0.0</td>\n",
              "      <td>0.0</td>\n",
              "    </tr>\n",
              "    <tr>\n",
              "      <th>750</th>\n",
              "      <td>2019</td>\n",
              "      <td>21</td>\n",
              "      <td>0</td>\n",
              "      <td>2</td>\n",
              "      <td>2</td>\n",
              "      <td>1</td>\n",
              "      <td>2</td>\n",
              "      <td>11</td>\n",
              "      <td>0.0</td>\n",
              "      <td>0.0</td>\n",
              "    </tr>\n",
              "    <tr>\n",
              "      <th>751</th>\n",
              "      <td>2019</td>\n",
              "      <td>22</td>\n",
              "      <td>3</td>\n",
              "      <td>4</td>\n",
              "      <td>4</td>\n",
              "      <td>1</td>\n",
              "      <td>4</td>\n",
              "      <td>34</td>\n",
              "      <td>0.0</td>\n",
              "      <td>0.0</td>\n",
              "    </tr>\n",
              "    <tr>\n",
              "      <th>752</th>\n",
              "      <td>2019</td>\n",
              "      <td>8</td>\n",
              "      <td>0</td>\n",
              "      <td>4</td>\n",
              "      <td>0</td>\n",
              "      <td>0</td>\n",
              "      <td>4</td>\n",
              "      <td>15</td>\n",
              "      <td>0.0</td>\n",
              "      <td>1.0</td>\n",
              "    </tr>\n",
              "    <tr>\n",
              "      <th>755</th>\n",
              "      <td>2019</td>\n",
              "      <td>15</td>\n",
              "      <td>4</td>\n",
              "      <td>0</td>\n",
              "      <td>4</td>\n",
              "      <td>0</td>\n",
              "      <td>4</td>\n",
              "      <td>25</td>\n",
              "      <td>1.0</td>\n",
              "      <td>1.0</td>\n",
              "    </tr>\n",
              "  </tbody>\n",
              "</table>\n",
              "<p>552 rows × 10 columns</p>\n",
              "</div>"
            ],
            "text/plain": [
              "     season  city  team1  team2  ...  winner  venue  team1_win  team1_toss_win\n",
              "0      2017    15      7      6  ...       7     24        1.0             0.0\n",
              "4      2017     2      6      1  ...       6     14        1.0             1.0\n",
              "6      2017    22      3      4  ...       4     34        0.0             0.0\n",
              "7      2017    16      6      2  ...       2     10        0.0             1.0\n",
              "9      2017    22      7      4  ...       4     34        0.0             0.0\n",
              "..      ...   ...    ...    ...  ...     ...    ...        ...             ...\n",
              "749    2019     3      7      6  ...       6     16        0.0             0.0\n",
              "750    2019    21      0      2  ...       2     11        0.0             0.0\n",
              "751    2019    22      3      4  ...       4     34        0.0             0.0\n",
              "752    2019     8      0      4  ...       4     15        0.0             1.0\n",
              "755    2019    15      4      0  ...       4     25        1.0             1.0\n",
              "\n",
              "[552 rows x 10 columns]"
            ]
          },
          "metadata": {
            "tags": []
          },
          "execution_count": 16
        }
      ]
    }
  ]
}