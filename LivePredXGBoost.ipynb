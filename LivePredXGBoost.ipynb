{
  "nbformat": 4,
  "nbformat_minor": 0,
  "metadata": {
    "colab": {
      "name": "LivePredXGBoost.ipynb",
      "provenance": []
    },
    "kernelspec": {
      "name": "python3",
      "display_name": "Python 3"
    }
  },
  "cells": [
    {
      "cell_type": "code",
      "metadata": {
        "colab": {
          "base_uri": "https://localhost:8080/"
        },
        "id": "WctXoae2XOjA",
        "outputId": "95830b53-c5f7-4624-f539-454a398166f2"
      },
      "source": [
        "import pandas as pd\r\n",
        "df = pd.read_csv('t20.csv')\r\n",
        "X = df.iloc[:,[7,8,9,10,11,12,13]].values\r\n",
        "y = df.iloc[:, 14].values\r\n",
        "df.shape\r\n",
        "#Features are CURRENT TOTAL RUNS, CURRENT WICKETS TAKEN, CURRENT OVER,\r\n",
        "#RUNS IN LAST 5 OVERS, WICKETS IN LAST 5 OVERS, RUNS BY STRIKER, RUNS BY NON-STRIKERe"
      ],
      "execution_count": 23,
      "outputs": [
        {
          "output_type": "execute_result",
          "data": {
            "text/plain": [
              "(180777, 15)"
            ]
          },
          "metadata": {
            "tags": []
          },
          "execution_count": 23
        }
      ]
    },
    {
      "cell_type": "code",
      "metadata": {
        "id": "cNa57t-DdiF5"
      },
      "source": [
        ""
      ],
      "execution_count": null,
      "outputs": []
    },
    {
      "cell_type": "code",
      "metadata": {
        "id": "26Pp0K2EXiz6"
      },
      "source": [
        "import xgboost as xgb\r\n",
        "from sklearn.metrics import mean_squared_error\r\n",
        "import numpy as np"
      ],
      "execution_count": 24,
      "outputs": []
    },
    {
      "cell_type": "code",
      "metadata": {
        "id": "aRPM42WqX_AO"
      },
      "source": [
        "data_dmatrix = xgb.DMatrix(data=X,label=y)"
      ],
      "execution_count": 25,
      "outputs": []
    },
    {
      "cell_type": "code",
      "metadata": {
        "id": "2_Hmsxn4YIHw"
      },
      "source": [
        "from sklearn.model_selection import train_test_split\r\n",
        "\r\n",
        "X_train, X_test, y_train, y_test = train_test_split(X, y, test_size=0.25, random_state=420)"
      ],
      "execution_count": 26,
      "outputs": []
    },
    {
      "cell_type": "code",
      "metadata": {
        "id": "Lt0mGgMqdlng"
      },
      "source": [
        "from sklearn.preprocessing import StandardScaler\r\n",
        "sc = StandardScaler()\r\n",
        "X_train = sc.fit_transform(X_train)\r\n",
        "X_test = sc.transform(X_test)"
      ],
      "execution_count": 27,
      "outputs": []
    },
    {
      "cell_type": "code",
      "metadata": {
        "id": "6S0RRc_gYPgM"
      },
      "source": [
        "params = {\"objective\":\"reg:squarederror\",'colsample_bytree': 0.7,'colsample_bylevel': 0.9,'learning_rate': 0.1,\r\n",
        "                'max_depth': 6, 'alpha': 10,'tree_method':'hist'}\r\n",
        "\r\n",
        "cv_results = xgb.cv(dtrain=data_dmatrix, params=params, nfold=5,num_boost_round=300,early_stopping_rounds=10,metrics=\"rmse\", as_pandas=True, seed=118)"
      ],
      "execution_count": 39,
      "outputs": []
    },
    {
      "cell_type": "code",
      "metadata": {
        "colab": {
          "base_uri": "https://localhost:8080/",
          "height": 402
        },
        "id": "gbxgJSY6c5dn",
        "outputId": "38f9e6c0-2937-4c0f-f89f-ec110bf694e6"
      },
      "source": [
        "cv_results.head(100)"
      ],
      "execution_count": 29,
      "outputs": [
        {
          "output_type": "execute_result",
          "data": {
            "text/html": [
              "<div>\n",
              "<style scoped>\n",
              "    .dataframe tbody tr th:only-of-type {\n",
              "        vertical-align: middle;\n",
              "    }\n",
              "\n",
              "    .dataframe tbody tr th {\n",
              "        vertical-align: top;\n",
              "    }\n",
              "\n",
              "    .dataframe thead th {\n",
              "        text-align: right;\n",
              "    }\n",
              "</style>\n",
              "<table border=\"1\" class=\"dataframe\">\n",
              "  <thead>\n",
              "    <tr style=\"text-align: right;\">\n",
              "      <th></th>\n",
              "      <th>train-rmse-mean</th>\n",
              "      <th>train-rmse-std</th>\n",
              "      <th>test-rmse-mean</th>\n",
              "      <th>test-rmse-std</th>\n",
              "    </tr>\n",
              "  </thead>\n",
              "  <tbody>\n",
              "    <tr>\n",
              "      <th>0</th>\n",
              "      <td>145.010764</td>\n",
              "      <td>0.012321</td>\n",
              "      <td>145.010373</td>\n",
              "      <td>0.055960</td>\n",
              "    </tr>\n",
              "    <tr>\n",
              "      <th>1</th>\n",
              "      <td>130.956583</td>\n",
              "      <td>0.010995</td>\n",
              "      <td>130.956393</td>\n",
              "      <td>0.059216</td>\n",
              "    </tr>\n",
              "    <tr>\n",
              "      <th>2</th>\n",
              "      <td>118.361583</td>\n",
              "      <td>0.010053</td>\n",
              "      <td>118.362791</td>\n",
              "      <td>0.063389</td>\n",
              "    </tr>\n",
              "    <tr>\n",
              "      <th>3</th>\n",
              "      <td>107.029578</td>\n",
              "      <td>0.009654</td>\n",
              "      <td>107.033031</td>\n",
              "      <td>0.071158</td>\n",
              "    </tr>\n",
              "    <tr>\n",
              "      <th>4</th>\n",
              "      <td>96.831525</td>\n",
              "      <td>0.010594</td>\n",
              "      <td>96.835761</td>\n",
              "      <td>0.077620</td>\n",
              "    </tr>\n",
              "    <tr>\n",
              "      <th>...</th>\n",
              "      <td>...</td>\n",
              "      <td>...</td>\n",
              "      <td>...</td>\n",
              "      <td>...</td>\n",
              "    </tr>\n",
              "    <tr>\n",
              "      <th>95</th>\n",
              "      <td>20.687329</td>\n",
              "      <td>0.025653</td>\n",
              "      <td>20.819733</td>\n",
              "      <td>0.098403</td>\n",
              "    </tr>\n",
              "    <tr>\n",
              "      <th>96</th>\n",
              "      <td>20.672930</td>\n",
              "      <td>0.025638</td>\n",
              "      <td>20.805755</td>\n",
              "      <td>0.098321</td>\n",
              "    </tr>\n",
              "    <tr>\n",
              "      <th>97</th>\n",
              "      <td>20.670676</td>\n",
              "      <td>0.026022</td>\n",
              "      <td>20.803905</td>\n",
              "      <td>0.098362</td>\n",
              "    </tr>\n",
              "    <tr>\n",
              "      <th>98</th>\n",
              "      <td>20.655267</td>\n",
              "      <td>0.026797</td>\n",
              "      <td>20.789237</td>\n",
              "      <td>0.097420</td>\n",
              "    </tr>\n",
              "    <tr>\n",
              "      <th>99</th>\n",
              "      <td>20.648735</td>\n",
              "      <td>0.026808</td>\n",
              "      <td>20.783842</td>\n",
              "      <td>0.095934</td>\n",
              "    </tr>\n",
              "  </tbody>\n",
              "</table>\n",
              "<p>100 rows × 4 columns</p>\n",
              "</div>"
            ],
            "text/plain": [
              "    train-rmse-mean  train-rmse-std  test-rmse-mean  test-rmse-std\n",
              "0        145.010764        0.012321      145.010373       0.055960\n",
              "1        130.956583        0.010995      130.956393       0.059216\n",
              "2        118.361583        0.010053      118.362791       0.063389\n",
              "3        107.029578        0.009654      107.033031       0.071158\n",
              "4         96.831525        0.010594       96.835761       0.077620\n",
              "..              ...             ...             ...            ...\n",
              "95        20.687329        0.025653       20.819733       0.098403\n",
              "96        20.672930        0.025638       20.805755       0.098321\n",
              "97        20.670676        0.026022       20.803905       0.098362\n",
              "98        20.655267        0.026797       20.789237       0.097420\n",
              "99        20.648735        0.026808       20.783842       0.095934\n",
              "\n",
              "[100 rows x 4 columns]"
            ]
          },
          "metadata": {
            "tags": []
          },
          "execution_count": 29
        }
      ]
    },
    {
      "cell_type": "code",
      "metadata": {
        "colab": {
          "base_uri": "https://localhost:8080/"
        },
        "id": "phaCPDQhd2Wb",
        "outputId": "cf92ec47-e488-4416-e3c3-88e1ca76e645"
      },
      "source": [
        "print((cv_results[\"test-rmse-mean\"]).tail(1))"
      ],
      "execution_count": 30,
      "outputs": [
        {
          "output_type": "stream",
          "text": [
            "299    20.176188\n",
            "Name: test-rmse-mean, dtype: float64\n"
          ],
          "name": "stdout"
        }
      ]
    },
    {
      "cell_type": "code",
      "metadata": {
        "colab": {
          "base_uri": "https://localhost:8080/"
        },
        "id": "R7vJ1oy1ejsT",
        "outputId": "cf837481-1a8a-4393-bb85-ca84c61b7bb2"
      },
      "source": [
        "xg_reg = xgb.train(params=params, dtrain=data_dmatrix, num_boost_round=10)\r\n",
        "xg_reg"
      ],
      "execution_count": 43,
      "outputs": [
        {
          "output_type": "execute_result",
          "data": {
            "text/plain": [
              "<xgboost.core.Booster at 0x7fba0d508550>"
            ]
          },
          "metadata": {
            "tags": []
          },
          "execution_count": 43
        }
      ]
    },
    {
      "cell_type": "code",
      "metadata": {
        "colab": {
          "base_uri": "https://localhost:8080/",
          "height": 295
        },
        "id": "DaHM_7XueJZU",
        "outputId": "124c36de-fa71-48ee-c723-5928ee054e81"
      },
      "source": [
        "import matplotlib.pyplot as plt\r\n",
        "\r\n",
        "xgb.plot_importance(xg_reg)\r\n",
        "plt.rcParams['figure.figsize'] = [5, 5]\r\n",
        "plt.show()"
      ],
      "execution_count": 42,
      "outputs": [
        {
          "output_type": "display_data",
          "data": {
            "image/png": "[encoded data removed]",
            "text/plain": [
              "<Figure size 432x288 with 1 Axes>"
            ]
          },
          "metadata": {
            "tags": [],
            "needs_background": "light"
          }
        }
      ]
    },
    {
      "cell_type": "code",
      "metadata": {
        "id": "itvXatxBegZg"
      },
      "source": [
        "xg_reg = xgb.XGBRegressor(objective ='reg:squarederror', colsample_bytree = 1, colsample_bylevel = 1, learning_rate = 0.1, min_split_loss = 1, max_depth = 5, alpha = 0.5, reg_lambda = 1, n_estimators = 300, tree_method = 'approx')"
      ],
      "execution_count": 78,
      "outputs": []
    },
    {
      "cell_type": "code",
      "metadata": {
        "id": "bwM6DBrPigyH"
      },
      "source": [
        "xg_reg.fit(X_train,y_train)\r\n",
        "\r\n",
        "preds = xg_reg.predict(X_test)"
      ],
      "execution_count": 79,
      "outputs": []
    },
    {
      "cell_type": "code",
      "metadata": {
        "colab": {
          "base_uri": "https://localhost:8080/"
        },
        "id": "KdTVyocljkA_",
        "outputId": "b3d54e0f-62d4-46cf-98ea-cd8982238d48"
      },
      "source": [
        "rmse = np.sqrt(mean_squared_error(y_test, preds))\r\n",
        "score = xg_reg.score(X_test,y_test)*100\r\n",
        "print(\"RMSE: %f\" % (rmse))\r\n",
        "print(\"R2:\" , score)"
      ],
      "execution_count": 80,
      "outputs": [
        {
          "output_type": "stream",
          "text": [
            "RMSE: 20.239282\n",
            "R2: 55.94412965154305\n"
          ],
          "name": "stdout"
        }
      ]
    },
    {
      "cell_type": "code",
      "metadata": {
        "id": "FGXqr_QMjnzZ"
      },
      "source": [
        ""
      ],
      "execution_count": null,
      "outputs": []
    }
  ]
}